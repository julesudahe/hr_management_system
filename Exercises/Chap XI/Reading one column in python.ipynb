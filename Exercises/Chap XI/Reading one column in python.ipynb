{
 "cells": [
  {
   "cell_type": "code",
   "execution_count": 9,
   "metadata": {},
   "outputs": [
    {
     "data": {
      "text/plain": [
       "0    3283052\n",
       "1    3284350\n",
       "2    3284352\n",
       "3    3284452\n",
       "4    3285550\n",
       "Name: textID, dtype: int64"
      ]
     },
     "execution_count": 9,
     "metadata": {},
     "output_type": "execute_result"
    }
   ],
   "source": [
    "import pandas\n",
    "\n",
    "csv_path='C:/Users/j.udahemuka/Desktop/Bboxx Splits/personal-projects/personal-python/Coursera Courses/data/glowbe-samples-sources.csv'\n",
    "df = pandas.read_csv(csv_path)\n",
    "df['textID'].head()"
   ]
  }
 ],
 "metadata": {
  "interpreter": {
   "hash": "71566fbe251712ce40cf1d45962be63f0a25744ddfca5c93aef7e695a8bc5746"
  },
  "kernelspec": {
   "display_name": "Python 3.7.11 64-bit ('myenv': conda)",
   "language": "python",
   "name": "python3"
  },
  "language_info": {
   "name": "python",
   "version": "3.7.11"
  },
  "orig_nbformat": 4
 },
 "nbformat": 4,
 "nbformat_minor": 2
}
